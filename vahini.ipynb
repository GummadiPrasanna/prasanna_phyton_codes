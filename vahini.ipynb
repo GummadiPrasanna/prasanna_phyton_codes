{
 "cells": [
  {
   "cell_type": "code",
   "execution_count": 13,
   "id": "f72d95dd",
   "metadata": {},
   "outputs": [
    {
     "data": {
      "text/plain": [
       "['red', 'blue', 'green', 'white', 'yellow', 'pink', 'orange']"
      ]
     },
     "execution_count": 13,
     "metadata": {},
     "output_type": "execute_result"
    }
   ],
   "source": [
    "colours=[\"red\",\"blue\",\"green\",\"white\",\"yellow\",\"pink\",\"orange\"]\n",
    "colours\n"
   ]
  },
  {
   "cell_type": "code",
   "execution_count": 28,
   "id": "fe690b3d",
   "metadata": {},
   "outputs": [],
   "source": [
    "list=[\"red\",\"blue\",\"green\",\"white\",\"yellow\",\"pink\",\"orange\"]"
   ]
  },
  {
   "cell_type": "code",
   "execution_count": 41,
   "id": "d1bb29fa",
   "metadata": {},
   "outputs": [
    {
     "data": {
      "text/plain": [
       "(1, 2, 3, 4, 5)"
      ]
     },
     "execution_count": 41,
     "metadata": {},
     "output_type": "execute_result"
    }
   ],
   "source": [
    "tt=tuple(list)\n",
    "tt"
   ]
  },
  {
   "cell_type": "code",
   "execution_count": 14,
   "id": "b703c53e",
   "metadata": {},
   "outputs": [
    {
     "data": {
      "text/plain": [
       "'white'"
      ]
     },
     "execution_count": 14,
     "metadata": {},
     "output_type": "execute_result"
    }
   ],
   "source": [
    "colours[3]"
   ]
  },
  {
   "cell_type": "code",
   "execution_count": 15,
   "id": "b3850822",
   "metadata": {},
   "outputs": [
    {
     "data": {
      "text/plain": [
       "['blue', 'green', 'white', 'yellow', 'pink']"
      ]
     },
     "execution_count": 15,
     "metadata": {},
     "output_type": "execute_result"
    }
   ],
   "source": [
    "colours[1:6]"
   ]
  },
  {
   "cell_type": "code",
   "execution_count": 16,
   "id": "d0a6761e",
   "metadata": {},
   "outputs": [
    {
     "data": {
      "text/plain": [
       "'green'"
      ]
     },
     "execution_count": 16,
     "metadata": {},
     "output_type": "execute_result"
    }
   ],
   "source": [
    "colours[-5]"
   ]
  },
  {
   "cell_type": "code",
   "execution_count": 17,
   "id": "abf9b380",
   "metadata": {},
   "outputs": [
    {
     "data": {
      "text/plain": [
       "['blue', 'green', 'white', 'yellow', 'pink', 'orange']"
      ]
     },
     "execution_count": 17,
     "metadata": {},
     "output_type": "execute_result"
    }
   ],
   "source": [
    "colours[1:7]"
   ]
  },
  {
   "cell_type": "code",
   "execution_count": null,
   "id": "fcb43fe5",
   "metadata": {},
   "outputs": [],
   "source": [
    "tuple"
   ]
  },
  {
   "cell_type": "code",
   "execution_count": 9,
   "id": "a4299d59",
   "metadata": {},
   "outputs": [
    {
     "data": {
      "text/plain": [
       "('mamtha', 'meghana', 'kavya', 'durga', 'swathi', 'bujji')"
      ]
     },
     "execution_count": 9,
     "metadata": {},
     "output_type": "execute_result"
    }
   ],
   "source": [
    "friends=(\"mamtha\",\"meghana\",\"kavya\",\"durga\",\"swathi\",\"bujji\")\n",
    "friends"
   ]
  },
  {
   "cell_type": "code",
   "execution_count": 11,
   "id": "645e5f10",
   "metadata": {},
   "outputs": [
    {
     "data": {
      "text/plain": [
       "'meghana'"
      ]
     },
     "execution_count": 11,
     "metadata": {},
     "output_type": "execute_result"
    }
   ],
   "source": [
    "friends[1]"
   ]
  },
  {
   "cell_type": "code",
   "execution_count": 38,
   "id": "924177e3",
   "metadata": {},
   "outputs": [
    {
     "data": {
      "text/plain": [
       "(1, 2, 3, 4, 5)"
      ]
     },
     "execution_count": 38,
     "metadata": {},
     "output_type": "execute_result"
    }
   ],
   "source": [
    "list=[1,2,3,4,5]\n",
    "tt=tuple(list)\n",
    "tt"
   ]
  },
  {
   "cell_type": "code",
   "execution_count": 39,
   "id": "47d1a2f9",
   "metadata": {},
   "outputs": [
    {
     "data": {
      "text/plain": [
       "(1, 2, 3, 4, 5)"
      ]
     },
     "execution_count": 39,
     "metadata": {},
     "output_type": "execute_result"
    }
   ],
   "source": [
    "tt"
   ]
  },
  {
   "cell_type": "code",
   "execution_count": null,
   "id": "4fa44225",
   "metadata": {},
   "outputs": [],
   "source": [
    "list to tuple conversion"
   ]
  },
  {
   "cell_type": "code",
   "execution_count": 33,
   "id": "93f0e19f",
   "metadata": {},
   "outputs": [],
   "source": [
    "lst=[1,2,3,4,5,6]\n"
   ]
  },
  {
   "cell_type": "code",
   "execution_count": 37,
   "id": "ac530a58",
   "metadata": {},
   "outputs": [
    {
     "data": {
      "text/plain": [
       "(1, 2, 3, 4, 5, 6)"
      ]
     },
     "execution_count": 37,
     "metadata": {},
     "output_type": "execute_result"
    }
   ],
   "source": [
    "tup_lst=tuple(lst)\n",
    "tup_lst"
   ]
  },
  {
   "cell_type": "code",
   "execution_count": null,
   "id": "ddf4f520",
   "metadata": {},
   "outputs": [],
   "source": [
    "set"
   ]
  },
  {
   "cell_type": "code",
   "execution_count": 42,
   "id": "0afefd43",
   "metadata": {},
   "outputs": [
    {
     "data": {
      "text/plain": [
       "{'anusha', 'bujji', 'chandrika', 'meghana', 'prasanna', 'sravani', 'swathi'}"
      ]
     },
     "execution_count": 42,
     "metadata": {},
     "output_type": "execute_result"
    }
   ],
   "source": [
    "names={\"prasanna\",\"meghana\",\"sravani\",\"swathi\",\"bujji\",\"anusha\",\"chandrika\"}\n",
    "names"
   ]
  },
  {
   "cell_type": "code",
   "execution_count": 43,
   "id": "b1f8829d",
   "metadata": {},
   "outputs": [
    {
     "data": {
      "text/plain": [
       "{0, 1, 2, 5, 10, 14, 54, 56, 57, 78, 91, 95, 100}"
      ]
     },
     "execution_count": 43,
     "metadata": {},
     "output_type": "execute_result"
    }
   ],
   "source": [
    "numbers={10,100,5,0,2,91,14,56,78,54,1,57,95}\n",
    "numbers"
   ]
  },
  {
   "cell_type": "code",
   "execution_count": null,
   "id": "abda4ab3",
   "metadata": {},
   "outputs": [],
   "source": [
    "dict"
   ]
  },
  {
   "cell_type": "code",
   "execution_count": 50,
   "id": "4476c118",
   "metadata": {},
   "outputs": [
    {
     "data": {
      "text/plain": [
       "{'girls': ['pavani', 'chandrika', 'swathi', 'meghna', 'mamatha', 'sravani'],\n",
       " 'rollnumbers': [1, 5, 3, 7, 9, 4]}"
      ]
     },
     "execution_count": 50,
     "metadata": {},
     "output_type": "execute_result"
    }
   ],
   "source": [
    "dict={\"girls\":[\"pavani\",\"chandrika\",\"swathi\",\"meghna\",\"mamatha\",\"sravani\"],\"rollnumbers\":[1,5,3,7,9,4]}\n",
    "dict"
   ]
  },
  {
   "cell_type": "code",
   "execution_count": 51,
   "id": "5fa99b7e",
   "metadata": {},
   "outputs": [
    {
     "data": {
      "text/plain": [
       "['chandrika', 'swathi', 'meghna', 'mamatha', 'sravani']"
      ]
     },
     "execution_count": 51,
     "metadata": {},
     "output_type": "execute_result"
    }
   ],
   "source": [
    "dict[\"girls\"][1:6]"
   ]
  },
  {
   "cell_type": "code",
   "execution_count": 54,
   "id": "f9473f31",
   "metadata": {},
   "outputs": [
    {
     "data": {
      "text/plain": [
       "'sravani'"
      ]
     },
     "execution_count": 54,
     "metadata": {},
     "output_type": "execute_result"
    }
   ],
   "source": [
    "dict['girls'][5]"
   ]
  },
  {
   "cell_type": "code",
   "execution_count": 55,
   "id": "1d8b166e",
   "metadata": {},
   "outputs": [
    {
     "data": {
      "text/plain": [
       "'sravani'"
      ]
     },
     "execution_count": 55,
     "metadata": {},
     "output_type": "execute_result"
    }
   ],
   "source": [
    "dict['girls'][-1]"
   ]
  },
  {
   "cell_type": "code",
   "execution_count": 56,
   "id": "4b50b0d0",
   "metadata": {},
   "outputs": [
    {
     "data": {
      "text/plain": [
       "'chandrika'"
      ]
     },
     "execution_count": 56,
     "metadata": {},
     "output_type": "execute_result"
    }
   ],
   "source": [
    "dict['girls'][-5]"
   ]
  },
  {
   "cell_type": "code",
   "execution_count": 57,
   "id": "58bf8d41",
   "metadata": {},
   "outputs": [
    {
     "data": {
      "text/plain": [
       "'pavani'"
      ]
     },
     "execution_count": 57,
     "metadata": {},
     "output_type": "execute_result"
    }
   ],
   "source": [
    "dict['girls'][-6]"
   ]
  },
  {
   "cell_type": "code",
   "execution_count": null,
   "id": "5a74c4bf",
   "metadata": {},
   "outputs": [],
   "source": []
  },
  {
   "cell_type": "code",
   "execution_count": null,
   "id": "ebd05030",
   "metadata": {},
   "outputs": [],
   "source": []
  },
  {
   "cell_type": "code",
   "execution_count": null,
   "id": "f00d4d41",
   "metadata": {},
   "outputs": [],
   "source": []
  },
  {
   "cell_type": "code",
   "execution_count": null,
   "id": "6baca44f",
   "metadata": {},
   "outputs": [],
   "source": []
  },
  {
   "cell_type": "code",
   "execution_count": 24,
   "id": "8fa64526",
   "metadata": {},
   "outputs": [
    {
     "name": "stdout",
     "output_type": "stream",
     "text": [
      "the price of lemon rice is 56\n"
     ]
    }
   ],
   "source": [
    "customer_name=\"swathi\"\n",
    "order_food=\"lemon rice\"\n",
    "if customer_name==\"bujji\" and order_food==\"lemon rice\":\n",
    "    print(\"the price of lemon rice is 48\")\n",
    "elif customer_name==\"bujji\" and order_food==\"curd rice\":\n",
    "    print(\"the price of curd rice is 49\")\n",
    "elif customer_name==\"swathi\" and order_food==\"lemon rice\":\n",
    "    print(\"the price of lemon rice is 56\")\n",
    "elif customer_name==\"swathi\" and order_food==\"curd rice\":\n",
    "    print(\"the price of curd rice is 57\")\n",
    "elif customer_name==\"prasanna\" and order_food==\"lemon rice\":\n",
    "    print(\"the price of lemon rice is 64\")\n",
    "elif customer_name==\"prasanna\" and order_food==\"curd rice\":\n",
    "    print(\"the price of curd rice is 65\")\n",
    "elif customer_name==\"others\" and order_food==\"lemon rice\":\n",
    "    print(\"the price of lemon rice is 72\")\n",
    "elif customer_name==\"others\" and order_food==\"curd rice\":\n",
    "    print(\"the price of curd rice is 73\")\n",
    "else:\n",
    "    print(\"not vailable\")\n",
    "   "
   ]
  },
  {
   "cell_type": "code",
   "execution_count": null,
   "id": "5e5d5719",
   "metadata": {},
   "outputs": [],
   "source": []
  }
 ],
 "metadata": {
  "kernelspec": {
   "display_name": "Python 3 (ipykernel)",
   "language": "python",
   "name": "python3"
  },
  "language_info": {
   "codemirror_mode": {
    "name": "ipython",
    "version": 3
   },
   "file_extension": ".py",
   "mimetype": "text/x-python",
   "name": "python",
   "nbconvert_exporter": "python",
   "pygments_lexer": "ipython3",
   "version": "3.10.9"
  }
 },
 "nbformat": 4,
 "nbformat_minor": 5
}
