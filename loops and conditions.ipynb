{
 "cells": [
  {
   "cell_type": "code",
   "execution_count": null,
   "id": "82d78a3b",
   "metadata": {},
   "outputs": [],
   "source": [
    "#swathi=red,yellow\n",
    "bujji=pink,white\n",
    "shaheem=balck,yellow\n",
    "prasanna=blue,green\n",
    "\n",
    "\n",
    "##swathi=red,yellow\n",
    "bujji=pink,white\n",
    "shaheem=balck,yellow\n",
    "prasanna=blue,green"
   ]
  },
  {
   "cell_type": "code",
   "execution_count": 2,
   "id": "251df45b",
   "metadata": {},
   "outputs": [
    {
     "name": "stdout",
     "output_type": "stream",
     "text": [
      "deliver to swathi red\n",
      "deliver to prasanna blue\n",
      "no delivery\n",
      "no delivery\n",
      "no delivery\n",
      "deliver to bujji pink\n",
      "deliver to shaheem black\n",
      "no delivery\n"
     ]
    }
   ],
   "source": [
    "colours=[\"red\",\"blue\",\"green\",\"white\",\"yellow\",\"pink\",\"black\",\"orange\"]\n",
    "custmer=[\"swathi\",\"bujji\",\"shaheem\",\"prasanna\"]\n",
    "\n",
    "for p in colours:\n",
    "    if p==\"red\":\n",
    "        print(\"deliver to swathi\",p)\n",
    "    elif p==\"pink\":\n",
    "        print(\"deliver to bujji\",p)\n",
    "    elif p==\"black\":\n",
    "        print(\"deliver to shaheem\",p)\n",
    "    elif p==\"blue\":\n",
    "        print(\"deliver to prasanna\",p)\n",
    "    else:\n",
    "        print(\"no delivery\")\n",
    "        \n",
    "    "
   ]
  },
  {
   "cell_type": "code",
   "execution_count": null,
   "id": "1604b788",
   "metadata": {},
   "outputs": [],
   "source": [
    "##swathi=red,yellow\n",
    "bujji=pink,white\n",
    "shaheem=balck,yellow\n",
    "prasanna=blue,green"
   ]
  },
  {
   "cell_type": "code",
   "execution_count": 10,
   "id": "ab845fae",
   "metadata": {},
   "outputs": [
    {
     "name": "stdout",
     "output_type": "stream",
     "text": [
      "<----p---> red\n",
      "<----name---- swathi\n",
      "<-----deliver to swathi red\n",
      "<----name---- bujji\n",
      "<---no deliverd----\n",
      "<----name---- shaheem\n",
      "<---no deliverd----\n",
      "<----name---- prasanna\n",
      "<---no deliverd----\n",
      "<----p---> blue\n",
      "<----name---- swathi\n",
      "<---no deliverd----\n",
      "<----name---- bujji\n",
      "<---no deliverd----\n",
      "<----name---- shaheem\n",
      "<---no deliverd----\n",
      "<----name---- prasanna\n",
      "<-----deliver to prasanna blue\n",
      "<----p---> green\n",
      "<----name---- swathi\n",
      "<---no deliverd----\n",
      "<----name---- bujji\n",
      "<---no deliverd----\n",
      "<----name---- shaheem\n",
      "<---no deliverd----\n",
      "<----name---- prasanna\n",
      "<-----deliver to prasanna green\n",
      "<----p---> white\n",
      "<----name---- swathi\n",
      "<---no deliverd----\n",
      "<----name---- bujji\n",
      "<-----deliver to bujji white\n",
      "<----name---- shaheem\n",
      "<---no deliverd----\n",
      "<----name---- prasanna\n",
      "<---no deliverd----\n",
      "<----p---> yellow\n",
      "<----name---- swathi\n",
      "<-----deliver to swathi yellow\n",
      "<----name---- bujji\n",
      "<---no deliverd----\n",
      "<----name---- shaheem\n",
      "<-----deliver to shaheem yellow\n",
      "<----name---- prasanna\n",
      "<---no deliverd----\n",
      "<----p---> pink\n",
      "<----name---- swathi\n",
      "<---no deliverd----\n",
      "<----name---- bujji\n",
      "<-----deliver to bujji pink\n",
      "<----name---- shaheem\n",
      "<---no deliverd----\n",
      "<----name---- prasanna\n",
      "<---no deliverd----\n",
      "<----p---> black\n",
      "<----name---- swathi\n",
      "<---no deliverd----\n",
      "<----name---- bujji\n",
      "<---no deliverd----\n",
      "<----name---- shaheem\n",
      "<-----deliver to shaheem black\n",
      "<----name---- prasanna\n",
      "<---no deliverd----\n",
      "<----p---> orange\n",
      "<----name---- swathi\n",
      "<---no deliverd----\n",
      "<----name---- bujji\n",
      "<---no deliverd----\n",
      "<----name---- shaheem\n",
      "<---no deliverd----\n",
      "<----name---- prasanna\n",
      "<---no deliverd----\n"
     ]
    }
   ],
   "source": [
    "colours=[\"red\",\"blue\",\"green\",\"white\",\"yellow\",\"pink\",\"black\",\"orange\"]\n",
    "custmer=[\"swathi\",\"bujji\",\"shaheem\",\"prasanna\"]\n",
    "\n",
    "for p in colours:\n",
    "    print(\"<----p--->\",p)\n",
    "    for name in custmer:\n",
    "        print(\"<----name----\",name)\n",
    "        if (p==\"red\" or p==\"yellow\") and (name==\"swathi\"):\n",
    "            print(\"<-----deliver to\",name,p)\n",
    "        elif (p==\"pink\" or p==\"white\") and (name==\"bujji\"):\n",
    "            print(\"<-----deliver to\",name,p)\n",
    "        elif (p==\"black\" or p==\"yellow\") and (name==\"shaheem\"):\n",
    "            print(\"<-----deliver to\",name,p)\n",
    "        elif (p==\"blue\" or p==\"green\") and (name==\"prasanna\"):\n",
    "            print(\"<-----deliver to\",name,p)\n",
    "        else:\n",
    "            print(\"<---no deliverd----\")"
   ]
  },
  {
   "cell_type": "code",
   "execution_count": 4,
   "id": "29537fc5",
   "metadata": {},
   "outputs": [
    {
     "name": "stdout",
     "output_type": "stream",
     "text": [
      "my customer name prasanna\n",
      "my food name chiken\n",
      "no food available\n",
      "no food available\n",
      "no food available\n",
      "my customer name swathi\n",
      "my food name chiken\n",
      "no food available\n",
      "my food name egg\n",
      "no food available\n",
      "my customer name shaheena\n",
      "my food name chiken\n",
      "my food name mutton\n",
      "my food name egg\n",
      "no food available\n",
      "my customer name bujji\n",
      "my food name chiken\n",
      "my food name mutton\n",
      "my food name egg\n",
      "my food name prawns\n"
     ]
    }
   ],
   "source": [
    "customer=[\"prasanna\",\"swathi\",\"shaheena\",\"bujji\"]\n",
    "foods=[\"chiken\",\"mutton\",\"egg\",\"prawns\"]\n",
    "for cust in customer:\n",
    "    if cust==\"prasanna\":\n",
    "        print(\"my customer name\",cust)\n",
    "        for food in foods:\n",
    "            if food==\"chiken\":\n",
    "                print(\"my food name\",food)\n",
    "            else:\n",
    "                print(\"no food available\")\n",
    "    elif cust==\"swathi\":\n",
    "        print(\"my customer name\",cust)\n",
    "        for food in foods:\n",
    "            if food==\"chiken\":\n",
    "                print(\"my food name\",food)\n",
    "            elif food==\"egg\":\n",
    "                print(\"my food name\",food)\n",
    "            else:\n",
    "                print(\"no food available\")\n",
    "    elif cust==\"shaheena\":\n",
    "        print(\"my customer name\",cust)\n",
    "        for food in foods:\n",
    "            if food==\"chiken\":\n",
    "                print(\"my food name\",food)\n",
    "            elif food==\"egg\":\n",
    "                print(\"my food name\",food)\n",
    "            elif food==\"mutton\":\n",
    "                print(\"my food name\",food)\n",
    "            else:\n",
    "                print(\"no food available\")\n",
    "    elif cust==\"bujji\":\n",
    "        print(\"my customer name\",cust)\n",
    "        for food in foods:\n",
    "            if food==\"chiken\":\n",
    "                print(\"my food name\",food)\n",
    "            elif food==\"egg\":\n",
    "                print(\"my food name\",food)\n",
    "            elif food==\"mutton\":\n",
    "                print(\"my food name\",food)\n",
    "            elif food==\"prawns\":\n",
    "                print(\"my food name\",food)\n",
    "            else:\n",
    "                print(\"no food available\")"
   ]
  },
  {
   "cell_type": "code",
   "execution_count": null,
   "id": "46610bb6",
   "metadata": {},
   "outputs": [],
   "source": [
    "#varibles"
   ]
  },
  {
   "cell_type": "code",
   "execution_count": 9,
   "id": "a10bdc30",
   "metadata": {},
   "outputs": [],
   "source": [
    "name1=\"prasanna\"\n",
    "name2=\"swathi\"\n",
    "name3=\"bujji\"\n",
    "name4=\"shaheena\"\n",
    "name5=\"mamatha\"\n",
    "name6=\"meghana\""
   ]
  },
  {
   "cell_type": "code",
   "execution_count": 11,
   "id": "7ef0be48",
   "metadata": {},
   "outputs": [
    {
     "name": "stdout",
     "output_type": "stream",
     "text": [
      "my friend names,prasanna,swathi,bujji,shaheena,mamatha,meghana\n"
     ]
    }
   ],
   "source": [
    "print(\"my friend names \",name1,name2,name3,name4,name5,name6,sep=',')"
   ]
  },
  {
   "cell_type": "code",
   "execution_count": 12,
   "id": "1f2b5167",
   "metadata": {},
   "outputs": [
    {
     "data": {
      "text/plain": [
       "['prasanna',\n",
       " 'swathi',\n",
       " 'sravani',\n",
       " 'meghana',\n",
       " 'mamatha',\n",
       " 'bujji',\n",
       " 'shaheena',\n",
       " 'durga',\n",
       " 'jaya_sri']"
      ]
     },
     "execution_count": 12,
     "metadata": {},
     "output_type": "execute_result"
    }
   ],
   "source": [
    "frds=[\"prasanna\",\"swathi\",\"sravani\",\"meghana\",\"mamatha\",\"bujji\",\"shaheena\",\"durga\",\"jaya_sri\"]\n",
    "frds"
   ]
  },
  {
   "cell_type": "code",
   "execution_count": 13,
   "id": "0d1e0a2b",
   "metadata": {},
   "outputs": [
    {
     "name": "stdout",
     "output_type": "stream",
     "text": [
      "['prasanna', 'swathi', 'sravani', 'meghana', 'mamatha', 'bujji', 'shaheena', 'durga', 'jaya_sri']\n"
     ]
    }
   ],
   "source": [
    "print(frds)"
   ]
  },
  {
   "cell_type": "code",
   "execution_count": 14,
   "id": "36521eff",
   "metadata": {},
   "outputs": [
    {
     "data": {
      "text/plain": [
       "['vahini',\n",
       " 'swathi',\n",
       " 'sravani',\n",
       " 'meghana',\n",
       " 'mamatha',\n",
       " 'bujji',\n",
       " 'shaheena',\n",
       " 'durga',\n",
       " 'jaya_sri']"
      ]
     },
     "execution_count": 14,
     "metadata": {},
     "output_type": "execute_result"
    }
   ],
   "source": [
    "frds[0]=\"vahini\"\n",
    "frds"
   ]
  },
  {
   "cell_type": "code",
   "execution_count": 15,
   "id": "4759b1a1",
   "metadata": {},
   "outputs": [
    {
     "name": "stdout",
     "output_type": "stream",
     "text": [
      "['vahini', 'swathi', 'sravani', 'meghana', 'mamatha', 'bujji', 'shaheena', 'durga', 'jaya_sri']\n"
     ]
    }
   ],
   "source": [
    "print(frds)"
   ]
  },
  {
   "cell_type": "code",
   "execution_count": 17,
   "id": "4ecccc6c",
   "metadata": {
    "scrolled": true
   },
   "outputs": [
    {
     "name": "stdout",
     "output_type": "stream",
     "text": [
      "('mamatha', 'sravani', 'meghana', 'shaheena', 'swathi', 'bujji', 'prasanna', 'vahini')\n"
     ]
    }
   ],
   "source": [
    "best_frds=(\"mamatha\",\"sravani\",\"meghana\",\"shaheena\",\"swathi\",\"bujji\",\"prasanna\",\"vahini\")\n",
    "print(best_frds)"
   ]
  },
  {
   "cell_type": "code",
   "execution_count": 20,
   "id": "c3c2797a",
   "metadata": {},
   "outputs": [
    {
     "name": "stdout",
     "output_type": "stream",
     "text": [
      "{'orange', 'black', 'white', 'yellow', 'pink', 'red'}\n"
     ]
    },
    {
     "data": {
      "text/plain": [
       "{'black', 'orange', 'pink', 'red', 'white', 'yellow'}"
      ]
     },
     "execution_count": 20,
     "metadata": {},
     "output_type": "execute_result"
    }
   ],
   "source": [
    "colours={\"red\",\"yellow\",\"pink\",\"black\",\"white\",\"black\",\"pink\",\"red\",\"orange\"}\n",
    "print(colours)\n",
    "colours"
   ]
  },
  {
   "cell_type": "code",
   "execution_count": 28,
   "id": "7d21e7b2",
   "metadata": {},
   "outputs": [
    {
     "name": "stdout",
     "output_type": "stream",
     "text": [
      "{'frds': ['prasanna', 'sravani', 'meghana', 'mamatha', 'swathi', 'bujji', 'shaheena'], 'colours': ['red', 'green', 'blue', 'pink', 'yellow', 'orange', 'white']}\n"
     ]
    },
    {
     "data": {
      "text/plain": [
       "{'frds': ['prasanna',\n",
       "  'sravani',\n",
       "  'meghana',\n",
       "  'mamatha',\n",
       "  'swathi',\n",
       "  'bujji',\n",
       "  'shaheena'],\n",
       " 'colours': ['red', 'green', 'blue', 'pink', 'yellow', 'orange', 'white']}"
      ]
     },
     "execution_count": 28,
     "metadata": {},
     "output_type": "execute_result"
    }
   ],
   "source": [
    "frds_colours={\"frds\":[\"prasanna\",\"sravani\",\"meghana\",\"mamatha\",\"swathi\",\"bujji\",\"shaheena\"],\"colours\":[\"red\",\"green\",\"blue\",\"pink\",\"yellow\",\"orange\",\"white\"]}\n",
    "print(frds_colours)\n",
    "frds_colours"
   ]
  },
  {
   "cell_type": "code",
   "execution_count": 32,
   "id": "5a47966b",
   "metadata": {},
   "outputs": [
    {
     "name": "stdout",
     "output_type": "stream",
     "text": [
      "{'frds': ['vahini', 'sravani', 'meghana', 'mamatha', 'swathi', 'bujji', 'shaheena'], 'colours': ['red', 'green', 'blue', 'pink', 'yellow', 'orange', 'white']}\n"
     ]
    }
   ],
   "source": [
    "frds_colours[\"frds\"][0]=\"vahini\"\n",
    "print(frds_colours)"
   ]
  },
  {
   "cell_type": "code",
   "execution_count": null,
   "id": "8830cd2a",
   "metadata": {},
   "outputs": [],
   "source": [
    "#dmart,prasanna,food_items,amt-1500,disc-25%\n",
    "#disc\n",
    "#pay_amt"
   ]
  },
  {
   "cell_type": "code",
   "execution_count": 4,
   "id": "92ca7d4d",
   "metadata": {},
   "outputs": [
    {
     "name": "stdout",
     "output_type": "stream",
     "text": [
      "no mart and no cust available\n"
     ]
    }
   ],
   "source": [
    "mart=\"dmart\"\n",
    "cust=\"shaheena\"\n",
    "item=\"food_item\"\n",
    "amt=1500\n",
    "disc=0.25\n",
    "if mart==\"dmart\" and cust==\"prasanna\":\n",
    "    print(mart,\"my cust name\",cust)\n",
    "    if item==\"food_item\":\n",
    "        disc=0.25\n",
    "        after_disc=amt*disc\n",
    "        print(\"food-items discount\",after_disc)\n",
    "        pay_amt=amt-after_disc\n",
    "        print(\"remaining amt_pay\",pay_amt)\n",
    "    else:\n",
    "        print(\"no food available\")\n",
    "else:\n",
    "    print(\"no mart and no cust available\")"
   ]
  },
  {
   "cell_type": "code",
   "execution_count": 5,
   "id": "6342495f",
   "metadata": {},
   "outputs": [
    {
     "name": "stdout",
     "output_type": "stream",
     "text": [
      "dmart my cust name prasanna\n",
      "food-items discount 375.0\n",
      "remaining amt_pay 1125.0\n"
     ]
    }
   ],
   "source": [
    "mart=\"dmart\"\n",
    "cust=\"prasanna\"\n",
    "item=\"food_item\"\n",
    "amt=1500\n",
    "disc=0.25\n",
    "if mart==\"dmart\" and cust==\"prasanna\" and item==\"food_item\":\n",
    "    print(mart,\"my cust name\",cust)\n",
    "    disc=0.25\n",
    "    after_disc=amt*disc\n",
    "    print(\"food-items discount\",after_disc)\n",
    "    pay_amt=amt-after_disc\n",
    "    print(\"remaining amt_pay\",pay_amt)\n",
    "else:\n",
    "    print(\"no mart and no cust available\")"
   ]
  },
  {
   "cell_type": "code",
   "execution_count": 6,
   "id": "ff5ec425",
   "metadata": {},
   "outputs": [
    {
     "name": "stdout",
     "output_type": "stream",
     "text": [
      "my customer name prasanna\n"
     ]
    }
   ],
   "source": [
    "cust=\"prasanna\"\n",
    "if cust==\"prasanna\":\n",
    "    print(\"my customer name\",cust)\n",
    "else:\n",
    "    print(\"no customer available\")"
   ]
  },
  {
   "cell_type": "code",
   "execution_count": 7,
   "id": "f3caee57",
   "metadata": {},
   "outputs": [
    {
     "name": "stdout",
     "output_type": "stream",
     "text": [
      "no customer available\n"
     ]
    }
   ],
   "source": [
    "cust=\"shaheena\"\n",
    "if cust==\"prasanna\":\n",
    "    print(\"my customer name\",cust)\n",
    "else:\n",
    "    print(\"no customer available\")"
   ]
  },
  {
   "cell_type": "code",
   "execution_count": 8,
   "id": "ef5cd6da",
   "metadata": {},
   "outputs": [
    {
     "name": "stdout",
     "output_type": "stream",
     "text": [
      "my customer name prasanna\n"
     ]
    }
   ],
   "source": [
    "cust=\"prasanna\"\n",
    "#colour=\"white\"\n",
    "if cust==\"prasanna\":\n",
    "    print(\"my customer name\",cust)\n",
    "elif cust==\"shaheena\":\n",
    "    print(\"my customer name\",cust)\n",
    "elif cust==\"swathi\":\n",
    "    print(\"my customer name\",cust)\n",
    "elif cust==\"bujji\":\n",
    "    print(\"my customer name\",cust)\n",
    "elif cust==\"durga\":\n",
    "    print(\"my customer name\",cust)\n",
    "elif cust==\"jaya sri\":\n",
    "    print(\"my customer name\",cust)\n",
    "else:\n",
    "    print(\"no customer is available\")\n",
    "        \n",
    "    "
   ]
  },
  {
   "cell_type": "code",
   "execution_count": 9,
   "id": "13fb48d4",
   "metadata": {},
   "outputs": [
    {
     "name": "stdout",
     "output_type": "stream",
     "text": [
      "no customer is available\n"
     ]
    }
   ],
   "source": [
    "cust=\"shaheen\"\n",
    "#colour=\"white\"\n",
    "if cust==\"prasanna\":\n",
    "    print(\"my customer name\",cust)\n",
    "elif cust==\"shaheena\":\n",
    "    print(\"my customer name\",cust)\n",
    "elif cust==\"swathi\":\n",
    "    print(\"my customer name\",cust)\n",
    "elif cust==\"bujji\":\n",
    "    print(\"my customer name\",cust)\n",
    "elif cust==\"durga\":\n",
    "    print(\"my customer name\",cust)\n",
    "elif cust==\"jaya sri\":\n",
    "    print(\"my customer name\",cust)\n",
    "else:\n",
    "    print(\"no customer is available\")"
   ]
  },
  {
   "cell_type": "code",
   "execution_count": 10,
   "id": "b67545eb",
   "metadata": {},
   "outputs": [
    {
     "name": "stdout",
     "output_type": "stream",
     "text": [
      "my customer name jaya sri\n"
     ]
    }
   ],
   "source": [
    "cust=\"jaya sri\"\n",
    "#colour=\"white\"\n",
    "if cust==\"prasanna\":\n",
    "    print(\"my customer name\",cust)\n",
    "elif cust==\"shaheena\":\n",
    "    print(\"my customer name\",cust)\n",
    "elif cust==\"swathi\":\n",
    "    print(\"my customer name\",cust)\n",
    "elif cust==\"bujji\":\n",
    "    print(\"my customer name\",cust)\n",
    "elif cust==\"durga\":\n",
    "    print(\"my customer name\",cust)\n",
    "elif cust==\"jaya sri\":\n",
    "    print(\"my customer name\",cust)\n",
    "else:\n",
    "    print(\"no customer is available\")"
   ]
  },
  {
   "cell_type": "code",
   "execution_count": 1,
   "id": "e22c3adf",
   "metadata": {},
   "outputs": [
    {
     "name": "stdout",
     "output_type": "stream",
     "text": [
      "prasanna my customer and delivery to colour red\n"
     ]
    }
   ],
   "source": [
    "cust=\"prasanna\"\n",
    "colour=\"red\"\n",
    "if cust==\"prasanna\" and colour==\"red\":\n",
    "    print(cust,\"my customer and delivery to colour\",colour)\n",
    "elif cust==\"shaheena\" and colour==\"white\":\n",
    "    print(cust,\"my customer and delivery to colour\",colour)  \n",
    "elif cust==\"swathi\"and colour==\"blue\":\n",
    "    print(cust,\"my customer and delivery to colour\",colour) \n",
    "elif cust==\"bujji\" and colour==\"green\":\n",
    "    print(cust,\"my customer and delivery to colour\",colour)  \n",
    "elif cust==\"durga\" and colour==\"yellow\":\n",
    "    print(cust,\"my customer and delivery to colour\",colour)  \n",
    "elif cust==\"jaya sri\" and colour==\"pink\":\n",
    "    print(cust,\"my customer and delivery to colour\",colour)\n",
    "else:\n",
    "    print(\"no customer and no colour available\")"
   ]
  },
  {
   "cell_type": "code",
   "execution_count": 4,
   "id": "8ac4a67a",
   "metadata": {},
   "outputs": [
    {
     "name": "stdout",
     "output_type": "stream",
     "text": [
      "no cust available\n"
     ]
    }
   ],
   "source": [
    "cust=\"meghana\"\n",
    "if cust==\"prasanna\":\n",
    "    print(\"my name is\",cust)\n",
    "elif cust==\"shaheena\":\n",
    "    print(\"my friend name is\",cust)\n",
    "elif cust==\"swathi\":\n",
    "    print(\"my friend name is\",cust)\n",
    "elif cust==\"bujji\":\n",
    "    print(\"my friend name is\",cust)\n",
    "elif cust==\"durga\":\n",
    "    print(\"my friend name is\",cust)\n",
    "elif cust==\"jayasri\":\n",
    "    print(\"my friend name is\",cust)\n",
    "elif cust==\"santhosh\":\n",
    "    print(\"my friend name is\",cust)\n",
    "else:\n",
    "    print(\"no cust available\")"
   ]
  },
  {
   "cell_type": "code",
   "execution_count": 5,
   "id": "b4dd7fc2",
   "metadata": {},
   "outputs": [
    {
     "name": "stdout",
     "output_type": "stream",
     "text": [
      "my friend name is prasanna\n",
      "my friend name is meghana\n",
      "my friend name is mamatha\n",
      "my friend name is sravani\n",
      "my friend name is shaheena\n",
      "my friend name is bujji\n",
      "my friend name is swathi\n",
      "my friend name is jayasri\n",
      "my friend name is durga\n",
      "my friend name is santhosh\n"
     ]
    }
   ],
   "source": [
    "customer=[\"prasanna\",\"meghana\",\"mamatha\",\"sravani\",\"shaheena\",\"bujji\",\"swathi\",\"jayasri\",\"durga\",\"santhosh\"]\n",
    "for cust in customer:\n",
    "    print(\"my friend name is\",cust)"
   ]
  },
  {
   "cell_type": "code",
   "execution_count": 6,
   "id": "8224dc25",
   "metadata": {},
   "outputs": [
    {
     "name": "stdout",
     "output_type": "stream",
     "text": [
      "my name is prasanna\n"
     ]
    }
   ],
   "source": [
    "customer=[\"prasanna\",\"meghana\",\"mamatha\",\"sravani\",\"shaheena\",\"bujji\",\"swathi\",\"jayasri\",\"durga\",\"santhosh\"]\n",
    "for cust in customer:\n",
    "    if cust==\"prasanna\":\n",
    "        print(\"my name is\",cust)\n",
    "        "
   ]
  },
  {
   "cell_type": "code",
   "execution_count": 7,
   "id": "5dda188f",
   "metadata": {},
   "outputs": [
    {
     "name": "stdout",
     "output_type": "stream",
     "text": [
      "my name is prasanna\n",
      "not available\n",
      "not available\n",
      "not available\n",
      "not available\n",
      "not available\n",
      "not available\n",
      "not available\n",
      "not available\n",
      "not available\n"
     ]
    }
   ],
   "source": [
    "customer=[\"prasanna\",\"meghana\",\"mamatha\",\"sravani\",\"shaheena\",\"bujji\",\"swathi\",\"jayasri\",\"durga\",\"santhosh\"]\n",
    "for cust in customer:\n",
    "    if cust==\"prasanna\":\n",
    "        print(\"my name is\",cust)\n",
    "    else:\n",
    "        print(\"not available\")"
   ]
  },
  {
   "cell_type": "code",
   "execution_count": 9,
   "id": "b74da4cc",
   "metadata": {},
   "outputs": [
    {
     "name": "stdout",
     "output_type": "stream",
     "text": [
      "my name is prasanna\n",
      "my name is shaheena\n"
     ]
    }
   ],
   "source": [
    "customer=[\"prasanna\",\"meghana\",\"mamatha\",\"sravani\",\"shaheena\",\"bujji\",\"swathi\",\"jayasri\",\"durga\",\"santhosh\"]\n",
    "for cust in customer:\n",
    "    if cust==\"prasanna\":\n",
    "        print(\"my name is\",cust)\n",
    "    elif cust==\"shaheena\":\n",
    "        print(\"my name is\",cust)"
   ]
  },
  {
   "cell_type": "code",
   "execution_count": 33,
   "id": "33107576",
   "metadata": {},
   "outputs": [],
   "source": [
    "friends=[\"prasanna\",\"meghana\",\"mamatha\",\"sravani\",\"shaheena\",\"bujji\",\"swathi\",\"jayasri\",\"durga\"]\n",
    "def customer_names(friends):\n",
    "    for cust in friends:\n",
    "        print(\"my friend name\",cust)\n",
    "        if cust==\"prasanna\":\n",
    "            print(\"my name\",cust)"
   ]
  },
  {
   "cell_type": "code",
   "execution_count": 34,
   "id": "fdfcdeb5",
   "metadata": {},
   "outputs": [
    {
     "name": "stdout",
     "output_type": "stream",
     "text": [
      "my friend name prasanna\n",
      "my name prasanna\n",
      "my friend name meghana\n",
      "my friend name mamatha\n",
      "my friend name sravani\n",
      "my friend name shaheena\n",
      "my friend name bujji\n",
      "my friend name swathi\n",
      "my friend name jayasri\n",
      "my friend name durga\n"
     ]
    }
   ],
   "source": [
    "customer_names(friends)"
   ]
  },
  {
   "cell_type": "code",
   "execution_count": 44,
   "id": "8ce8b49f",
   "metadata": {},
   "outputs": [],
   "source": [
    "colours=[\"red\",\"blue\",\"green\",\"white\",\"yellow\",\"black\",\"orange\"]\n",
    "def colour_names(colours):\n",
    "    for clr in colours:\n",
    "        print(\"colour name\",clr)\n",
    "        if clr==\"white\":\n",
    "            print(\"------my favorite colour--------\",clr)"
   ]
  },
  {
   "cell_type": "code",
   "execution_count": 45,
   "id": "88eb8751",
   "metadata": {},
   "outputs": [
    {
     "name": "stdout",
     "output_type": "stream",
     "text": [
      "colour name red\n",
      "colour name blue\n",
      "colour name green\n",
      "colour name white\n",
      "------my favorite colour-------- white\n",
      "colour name yellow\n",
      "colour name black\n",
      "colour name orange\n"
     ]
    }
   ],
   "source": [
    "colour_names(colours)"
   ]
  },
  {
   "cell_type": "code",
   "execution_count": null,
   "id": "116f3834",
   "metadata": {},
   "outputs": [],
   "source": [
    "# p_tiffins=[\"dosa\",\"puri\",\"vada\",\"chapathi\",\"upma\",\"idly\",\"punugulu\",\"pakodi\",\"bajji\",\"pongal\"]\n",
    "# p_customer=[\"gopal\",\"srinu\",\"sujatha\",\"meghana\",\"mamatha\",\"siru\",\"chandrika\",\"sravani\",\"vahini\",\"pavani\"]\n",
    "# rating=[1,5,3,4,5,4,3,2,1,5]"
   ]
  },
  {
   "cell_type": "code",
   "execution_count": 17,
   "id": "b6fd4f1b",
   "metadata": {},
   "outputs": [
    {
     "name": "stdout",
     "output_type": "stream",
     "text": [
      "my tiffin item dosa\n",
      "my customer name gopal\n",
      "rating 5\n",
      "rating-5,discount 3.0\n",
      "after discount pay amt 27.0\n"
     ]
    }
   ],
   "source": [
    "p_tiffins=\"dosa\"\n",
    "p_customer=\"gopal\"\n",
    "rating=5\n",
    "if (p_tiffins==\"dosa\" or  p_tiffins==\"puri\" or p_tiffins==\"vada\" or p_tiffins==\"chapathi\" or p_tiffins==\"upma\" or  p_tiffins==\"idly\" or p_tiffins==\"punugulu\" or p_tiffins==\"pakodi\" or p_tiffins==\"bajji\" or p_tiffins==\"pongal\"):\n",
    "    print(\"my tiffin item\",p_tiffins)\n",
    "    if (p_customer==\"gopal\" or p_customer==\"srinu\" or p_customer==\"sujatha\" or p_customer==\"meghana\" or p_customer==\"mamatha\" or p_customer==\"siru\" or p_customer==\"chandrika\" or p_customer==\"sravani\" or p_customer==\"vahini\" or p_customer==\"pavani\"):\n",
    "        print(\"my customer name\",p_customer)\n",
    "        if rating==1:\n",
    "            print(\"rating\",rating)\n",
    "            dosa_amt=30\n",
    "            discount=0.03\n",
    "            rating_disc=dosa_amt*discount\n",
    "            print(\"rating-1,discount\",rating_disc)\n",
    "            after=dosa_amt-rating_disc\n",
    "            print(\"after discount pay amt\",after)\n",
    "        elif rating==2:\n",
    "            print(\"rating\",rating)\n",
    "            dosa_amt=30\n",
    "            discount=0.03\n",
    "            rating_disc=dosa_amt*discount\n",
    "            print(\"rating-2,discount\",rating_disc)\n",
    "            after=dosa_amt-rating_disc\n",
    "            print(\"after discount pay amt\",after)\n",
    "        elif rating==3:\n",
    "            print(\"rating\",rating)\n",
    "            dosa_amt=30\n",
    "            discount=0.05\n",
    "            rating_disc=dosa_amt*discount\n",
    "            print(\"rating-3,discount\",rating_disc)\n",
    "            after=dosa_amt-rating_disc\n",
    "            print(\"after discount pay amt\",after)\n",
    "        elif rating==4:\n",
    "            print(\"rating\",rating)\n",
    "            dosa_amt=30\n",
    "            discount=0.08\n",
    "            rating_disc=dosa_amt*discount\n",
    "            print(\"rating-4,discount\",rating_disc)\n",
    "            after=dosa_amt-rating_disc\n",
    "            print(\"after discount pay amt\",after)\n",
    "        elif rating==5:\n",
    "            print(\"rating\",rating)\n",
    "            dosa_amt=30\n",
    "            discount=0.10\n",
    "            rating_disc=dosa_amt*discount\n",
    "            print(\"rating-5,discount\",rating_disc)\n",
    "            after=dosa_amt-rating_disc\n",
    "            print(\"after discount pay amt\",after)\n",
    "        else:\n",
    "            print(\"no ratings available\")\n",
    "    else:\n",
    "        print(\"no customer available\")\n",
    "else:\n",
    "    print(\"no tiffins available\")\n"
   ]
  },
  {
   "cell_type": "code",
   "execution_count": null,
   "id": "2a2eded0",
   "metadata": {},
   "outputs": [],
   "source": [
    "# p_tiffins=[\"dosa\",\"puri\",\"vada\",\"chapathi\",\"upma\",\"idly\",\"punugulu\",\"pakodi\",\"bajji\",\"pongal\"]\n",
    "# p_customer=[\"gopal\",\"srinu\",\"sujatha\",\"meghana\",\"mamatha\",\"siru\",\"chandrika\",\"sravani\",\"vahini\",\"pavani\"]\n",
    "# snacks_type=[\"mrg\",\"eng\",\"mixed\"]\n",
    "# mrg=[\"dosa\",\"puri\",\"vada\",\"idly\",\"pongal\"]"
   ]
  },
  {
   "cell_type": "code",
   "execution_count": null,
   "id": "72ba5694",
   "metadata": {},
   "outputs": [],
   "source": []
  },
  {
   "cell_type": "code",
   "execution_count": 6,
   "id": "f3b9c24d",
   "metadata": {},
   "outputs": [
    {
     "name": "stdout",
     "output_type": "stream",
     "text": [
      "my tiffin type mrg\n",
      "no customer available\n"
     ]
    }
   ],
   "source": [
    "snacks_type=\"mrg\"\n",
    "p_customer=\"sravani\"\n",
    "p_tiffins=\"dosa\"\n",
    "if snacks_type==\"mrg\":\n",
    "    print(\"my tiffin type\",snacks_type)\n",
    "    if p_customer==\"gopal\":\n",
    "        print(\"my customer name\",p_customer)\n",
    "        if p_tiffins==\"dosa\":\n",
    "            print(\"my tiffin item\",p_tiffins)\n",
    "            amt=30\n",
    "            discount=0.10\n",
    "            after_disc=amt*discount\n",
    "            print(\" dosa discount amt\",after_disc)\n",
    "            after=amt-after_disc\n",
    "            print(\"after pay amt\",after)\n",
    "        else:\n",
    "            print(\"no tiffin available\")\n",
    "    else:\n",
    "        print(\"no customer available\")\n",
    "else:\n",
    "    print(\"no snacks type available\")\n",
    "            "
   ]
  },
  {
   "cell_type": "code",
   "execution_count": null,
   "id": "09aee7d9",
   "metadata": {},
   "outputs": [],
   "source": []
  }
 ],
 "metadata": {
  "kernelspec": {
   "display_name": "Python 3 (ipykernel)",
   "language": "python",
   "name": "python3"
  },
  "language_info": {
   "codemirror_mode": {
    "name": "ipython",
    "version": 3
   },
   "file_extension": ".py",
   "mimetype": "text/x-python",
   "name": "python",
   "nbconvert_exporter": "python",
   "pygments_lexer": "ipython3",
   "version": "3.10.9"
  }
 },
 "nbformat": 4,
 "nbformat_minor": 5
}
