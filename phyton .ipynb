{
 "cells": [
  {
   "cell_type": "code",
   "execution_count": 1,
   "id": "6bace079",
   "metadata": {},
   "outputs": [],
   "source": [
    "name=\"prasanna\""
   ]
  },
  {
   "cell_type": "code",
   "execution_count": 2,
   "id": "0dd054f5",
   "metadata": {},
   "outputs": [
    {
     "data": {
      "text/plain": [
       "'prasanna'"
      ]
     },
     "execution_count": 2,
     "metadata": {},
     "output_type": "execute_result"
    }
   ],
   "source": [
    "name"
   ]
  },
  {
   "cell_type": "code",
   "execution_count": 5,
   "id": "0429c9bc",
   "metadata": {},
   "outputs": [
    {
     "name": "stdout",
     "output_type": "stream",
     "text": [
      "this is my name prasanna\n"
     ]
    }
   ],
   "source": [
    "print(\"this is my name\",name)"
   ]
  },
  {
   "cell_type": "code",
   "execution_count": 6,
   "id": "1c7cf0f4",
   "metadata": {},
   "outputs": [
    {
     "data": {
      "text/plain": [
       "str"
      ]
     },
     "execution_count": 6,
     "metadata": {},
     "output_type": "execute_result"
    }
   ],
   "source": [
    "type(name)"
   ]
  },
  {
   "cell_type": "code",
   "execution_count": 4,
   "id": "038546d4",
   "metadata": {},
   "outputs": [
    {
     "data": {
      "text/plain": [
       "20"
      ]
     },
     "execution_count": 4,
     "metadata": {},
     "output_type": "execute_result"
    }
   ],
   "source": [
    "marks=20\n",
    "marks"
   ]
  },
  {
   "cell_type": "code",
   "execution_count": 7,
   "id": "86e2b47f",
   "metadata": {},
   "outputs": [
    {
     "name": "stdout",
     "output_type": "stream",
     "text": [
      "20\n"
     ]
    }
   ],
   "source": [
    "print(marks)"
   ]
  },
  {
   "cell_type": "code",
   "execution_count": 8,
   "id": "72eaa851",
   "metadata": {},
   "outputs": [
    {
     "data": {
      "text/plain": [
       "int"
      ]
     },
     "execution_count": 8,
     "metadata": {},
     "output_type": "execute_result"
    }
   ],
   "source": [
    "type(marks)"
   ]
  },
  {
   "cell_type": "code",
   "execution_count": 9,
   "id": "e0d5fe2a",
   "metadata": {},
   "outputs": [
    {
     "data": {
      "text/plain": [
       "25.389"
      ]
     },
     "execution_count": 9,
     "metadata": {},
     "output_type": "execute_result"
    }
   ],
   "source": [
    "average=25.389\n",
    "average"
   ]
  },
  {
   "cell_type": "code",
   "execution_count": 10,
   "id": "07608702",
   "metadata": {},
   "outputs": [
    {
     "name": "stdout",
     "output_type": "stream",
     "text": [
      "25.389\n"
     ]
    }
   ],
   "source": [
    "print(average)"
   ]
  },
  {
   "cell_type": "code",
   "execution_count": 11,
   "id": "a2f7eb2b",
   "metadata": {},
   "outputs": [
    {
     "data": {
      "text/plain": [
       "float"
      ]
     },
     "execution_count": 11,
     "metadata": {},
     "output_type": "execute_result"
    }
   ],
   "source": [
    "type(average)"
   ]
  },
  {
   "cell_type": "code",
   "execution_count": null,
   "id": "3cf7fefc",
   "metadata": {},
   "outputs": [],
   "source": [
    "#list,tuple,set,dict"
   ]
  },
  {
   "cell_type": "code",
   "execution_count": 12,
   "id": "d43507e1",
   "metadata": {},
   "outputs": [
    {
     "data": {
      "text/plain": [
       "['swathi', 'bujji', 'shaheem', 'prasanna']"
      ]
     },
     "execution_count": 12,
     "metadata": {},
     "output_type": "execute_result"
    }
   ],
   "source": [
    "names=[\"swathi\",\"bujji\",\"shaheem\",\"prasanna\"]\n",
    "names"
   ]
  },
  {
   "cell_type": "code",
   "execution_count": 13,
   "id": "98f14ec4",
   "metadata": {},
   "outputs": [
    {
     "name": "stdout",
     "output_type": "stream",
     "text": [
      "my friends name ['swathi', 'bujji', 'shaheem', 'prasanna']\n"
     ]
    }
   ],
   "source": [
    "print(\"my friends name\",names)"
   ]
  },
  {
   "cell_type": "code",
   "execution_count": 14,
   "id": "35d4f495",
   "metadata": {},
   "outputs": [
    {
     "data": {
      "text/plain": [
       "'shaheem'"
      ]
     },
     "execution_count": 14,
     "metadata": {},
     "output_type": "execute_result"
    }
   ],
   "source": [
    "names[2]"
   ]
  },
  {
   "cell_type": "code",
   "execution_count": 15,
   "id": "3a2ded37",
   "metadata": {},
   "outputs": [
    {
     "data": {
      "text/plain": [
       "'swathi'"
      ]
     },
     "execution_count": 15,
     "metadata": {},
     "output_type": "execute_result"
    }
   ],
   "source": [
    "names[-4]"
   ]
  },
  {
   "cell_type": "code",
   "execution_count": 16,
   "id": "3239ab15",
   "metadata": {},
   "outputs": [
    {
     "data": {
      "text/plain": [
       "['bujji', 'shaheem', 'prasanna']"
      ]
     },
     "execution_count": 16,
     "metadata": {},
     "output_type": "execute_result"
    }
   ],
   "source": [
    "names[1:4]"
   ]
  },
  {
   "cell_type": "code",
   "execution_count": 24,
   "id": "f7cfe2ef",
   "metadata": {},
   "outputs": [
    {
     "data": {
      "text/plain": [
       "'shaheem'"
      ]
     },
     "execution_count": 24,
     "metadata": {},
     "output_type": "execute_result"
    }
   ],
   "source": [
    "names[2]"
   ]
  },
  {
   "cell_type": "code",
   "execution_count": 41,
   "id": "7475a989",
   "metadata": {},
   "outputs": [
    {
     "data": {
      "text/plain": [
       "['swathi', 'vahini', 'shaheem', 'prasanna']"
      ]
     },
     "execution_count": 41,
     "metadata": {},
     "output_type": "execute_result"
    }
   ],
   "source": [
    "names[1]=\"vahini\"\n",
    "names"
   ]
  },
  {
   "cell_type": "code",
   "execution_count": 27,
   "id": "7a3ee0c1",
   "metadata": {},
   "outputs": [
    {
     "data": {
      "text/plain": [
       "['prasanna', 'sravani', 'meghana', 50, 60, 20, 80]"
      ]
     },
     "execution_count": 27,
     "metadata": {},
     "output_type": "execute_result"
    }
   ],
   "source": [
    "clas=[\"prasanna\",\"sravani\",\"meghana\",50,60,20,80]\n",
    "clas"
   ]
  },
  {
   "cell_type": "code",
   "execution_count": 28,
   "id": "0be7c114",
   "metadata": {},
   "outputs": [
    {
     "name": "stdout",
     "output_type": "stream",
     "text": [
      "['prasanna', 'sravani', 'meghana', 50, 60, 20, 80]\n"
     ]
    }
   ],
   "source": [
    "print(clas)"
   ]
  },
  {
   "cell_type": "code",
   "execution_count": 29,
   "id": "55d1366f",
   "metadata": {},
   "outputs": [
    {
     "data": {
      "text/plain": [
       "20"
      ]
     },
     "execution_count": 29,
     "metadata": {},
     "output_type": "execute_result"
    }
   ],
   "source": [
    "clas[5]"
   ]
  },
  {
   "cell_type": "code",
   "execution_count": 30,
   "id": "7d385f55",
   "metadata": {},
   "outputs": [
    {
     "data": {
      "text/plain": [
       "['prasanna', 'sravani', 'meghana', 50, 60, 50, 80]"
      ]
     },
     "execution_count": 30,
     "metadata": {},
     "output_type": "execute_result"
    }
   ],
   "source": [
    "clas[5]=50\n",
    "clas"
   ]
  },
  {
   "cell_type": "code",
   "execution_count": 36,
   "id": "4597f4d1",
   "metadata": {},
   "outputs": [
    {
     "data": {
      "text/plain": [
       "['prasanna', 'sravani', 'meghana', 50, 60, 50, 80]"
      ]
     },
     "execution_count": 36,
     "metadata": {},
     "output_type": "execute_result"
    }
   ],
   "source": [
    "clas[0:7]\n"
   ]
  },
  {
   "cell_type": "code",
   "execution_count": 37,
   "id": "6645a0b9",
   "metadata": {},
   "outputs": [
    {
     "data": {
      "text/plain": [
       "('pavani', 'sravani', 'meghana', 'chandrika', 'mamatha', 50, 72, 35, 96, 80)"
      ]
     },
     "execution_count": 37,
     "metadata": {},
     "output_type": "execute_result"
    }
   ],
   "source": [
    "friends=(\"pavani\",\"sravani\",\"meghana\",\"chandrika\",\"mamatha\",50,72,35,96,80)\n",
    "friends"
   ]
  },
  {
   "cell_type": "code",
   "execution_count": 38,
   "id": "735d7231",
   "metadata": {},
   "outputs": [
    {
     "name": "stdout",
     "output_type": "stream",
     "text": [
      "('pavani', 'sravani', 'meghana', 'chandrika', 'mamatha', 50, 72, 35, 96, 80)\n"
     ]
    }
   ],
   "source": [
    "print(friends)"
   ]
  },
  {
   "cell_type": "code",
   "execution_count": 39,
   "id": "b6ff6e6e",
   "metadata": {},
   "outputs": [
    {
     "data": {
      "text/plain": [
       "{3, 10, 50, 52, 61, 92}"
      ]
     },
     "execution_count": 39,
     "metadata": {},
     "output_type": "execute_result"
    }
   ],
   "source": [
    "values={10,50,3,92,52,61}\n",
    "values"
   ]
  },
  {
   "cell_type": "code",
   "execution_count": 47,
   "id": "022eeeb3",
   "metadata": {},
   "outputs": [
    {
     "data": {
      "text/plain": [
       "{'girls': ['sravani', 'sujatha', 'mamatha'], 'unit': [10, 20, 25]}"
      ]
     },
     "execution_count": 47,
     "metadata": {},
     "output_type": "execute_result"
    }
   ],
   "source": [
    "school={\"girls\":[\"sravani\",\"sujatha\",\"mamatha\"],\"unit\":[10,20,25]}\n",
    "school"
   ]
  },
  {
   "cell_type": "code",
   "execution_count": 48,
   "id": "024429e1",
   "metadata": {},
   "outputs": [
    {
     "data": {
      "text/plain": [
       "'mamatha'"
      ]
     },
     "execution_count": 48,
     "metadata": {},
     "output_type": "execute_result"
    }
   ],
   "source": [
    "school[\"girls\"][2]"
   ]
  },
  {
   "cell_type": "code",
   "execution_count": 51,
   "id": "222f00ac",
   "metadata": {},
   "outputs": [
    {
     "data": {
      "text/plain": [
       "{'girls': ['sravani', 'sujatha', 'mamatha'], 'unit': [10, 20, 25]}"
      ]
     },
     "execution_count": 51,
     "metadata": {},
     "output_type": "execute_result"
    }
   ],
   "source": [
    "school[\"girls\"][2]"
   ]
  },
  {
   "cell_type": "code",
   "execution_count": 52,
   "id": "774afb7e",
   "metadata": {},
   "outputs": [
    {
     "data": {
      "text/plain": [
       "25"
      ]
     },
     "execution_count": 52,
     "metadata": {},
     "output_type": "execute_result"
    }
   ],
   "source": [
    "school[\"unit\"][2]"
   ]
  },
  {
   "cell_type": "code",
   "execution_count": null,
   "id": "9624931c",
   "metadata": {},
   "outputs": [],
   "source": [
    "if\n",
    "if else\n",
    "if elif else"
   ]
  },
  {
   "cell_type": "code",
   "execution_count": 54,
   "id": "630daab3",
   "metadata": {},
   "outputs": [
    {
     "name": "stdout",
     "output_type": "stream",
     "text": [
      "prasanna class topper 92\n"
     ]
    }
   ],
   "source": [
    "marks=92\n",
    "if marks>90:\n",
    "    print(\"prasanna class topper\",marks)"
   ]
  },
  {
   "cell_type": "code",
   "execution_count": 55,
   "id": "7da7a11f",
   "metadata": {},
   "outputs": [],
   "source": [
    "marks=85\n",
    "if marks>90:\n",
    "    print(\"prasanna class topper\",marks)"
   ]
  },
  {
   "cell_type": "code",
   "execution_count": 56,
   "id": "d9622bc5",
   "metadata": {},
   "outputs": [
    {
     "name": "stdout",
     "output_type": "stream",
     "text": [
      "prasanna average student 85\n"
     ]
    }
   ],
   "source": [
    "marks=85\n",
    "if marks>90:\n",
    "    print(\"prasanna class topper\",marks)\n",
    "else:\n",
    "    print(\"prasanna average student\",marks)"
   ]
  },
  {
   "cell_type": "code",
   "execution_count": 57,
   "id": "b2b092b6",
   "metadata": {},
   "outputs": [
    {
     "name": "stdout",
     "output_type": "stream",
     "text": [
      "prasanna class topper 95\n"
     ]
    }
   ],
   "source": [
    "marks=95\n",
    "if marks>90:\n",
    "    print(\"prasanna class topper\",marks)\n",
    "else:\n",
    "    print(\"prasanna average student\",marks)"
   ]
  },
  {
   "cell_type": "code",
   "execution_count": 68,
   "id": "91233750",
   "metadata": {},
   "outputs": [
    {
     "name": "stdout",
     "output_type": "stream",
     "text": [
      "prasanna class topper 85\n"
     ]
    }
   ],
   "source": [
    "marks=85\n",
    "if marks<92:\n",
    "    print(\"prasanna class topper\",marks)\n",
    "else:\n",
    "    print(\"prasanna average student\",marks)"
   ]
  },
  {
   "cell_type": "code",
   "execution_count": null,
   "id": "9c3e24aa",
   "metadata": {},
   "outputs": [],
   "source": []
  },
  {
   "cell_type": "code",
   "execution_count": null,
   "id": "e057a3f8",
   "metadata": {},
   "outputs": [],
   "source": [
    "#drink_shop_sales=50\n",
    "#>50---profit\n",
    "#--bonous=10\n",
    "#<50-----loss\n",
    "#----loss=20"
   ]
  },
  {
   "cell_type": "code",
   "execution_count": 61,
   "id": "f45feefc",
   "metadata": {},
   "outputs": [
    {
     "name": "stdout",
     "output_type": "stream",
     "text": [
      "no profit and no loss 50\n"
     ]
    }
   ],
   "source": [
    "drink_shop_sales=50\n",
    "if drink_shop_sales>50:\n",
    "    print(\"i am profit\",drink_shop_sales)\n",
    "    bonous=10\n",
    "    drink_shop_sales_new=drink_shop_sales+bonous\n",
    "    print(\"bonous profit\",drink_shop_sales_new)\n",
    "elif drink_shop_sales<50:\n",
    "    print(\"i am loss\",drink_shop_sales)\n",
    "    bonous=20\n",
    "    drink_shop_sales_loss=drink_shop_sales-bonous\n",
    "    print(\"bonous loss\",drink_shop_sales_loss)\n",
    "else:\n",
    "    print(\"no profit and no loss\",drink_shop_sales)"
   ]
  },
  {
   "cell_type": "code",
   "execution_count": 62,
   "id": "257d7078",
   "metadata": {},
   "outputs": [
    {
     "name": "stdout",
     "output_type": "stream",
     "text": [
      "i am profit 70\n",
      "bonous profit 80\n"
     ]
    }
   ],
   "source": [
    "drink_shop_sales=70\n",
    "if drink_shop_sales>50:\n",
    "    print(\"i am profit\",drink_shop_sales)\n",
    "    bonous=10\n",
    "    drink_shop_sales_new=drink_shop_sales+bonous\n",
    "    print(\"bonous profit\",drink_shop_sales_new)\n",
    "elif drink_shop_sales<50:\n",
    "    print(\"i am loss\",drink_shop_sales)\n",
    "    bonous=20\n",
    "    drink_shop_sales_loss=drink_shop_sales-bonous\n",
    "    print(\"bonous loss\",drink_shop_sales_loss)\n",
    "else:\n",
    "    print(\"no profit and no loss\",drink_shop_sales)"
   ]
  },
  {
   "cell_type": "code",
   "execution_count": 64,
   "id": "deb7a6c7",
   "metadata": {},
   "outputs": [
    {
     "name": "stdout",
     "output_type": "stream",
     "text": [
      "i am loss 45\n",
      "bonous loss 25\n"
     ]
    }
   ],
   "source": [
    "drink_shop_sales=45\n",
    "if drink_shop_sales>50:\n",
    "    print(\"i am profit\",drink_shop_sales)\n",
    "    bonous=10\n",
    "    drink_shop_sales_new=drink_shop_sales+bonous\n",
    "    print(\"bonous profit\",drink_shop_sales_new)\n",
    "elif drink_shop_sales<50:\n",
    "    print(\"i am loss\",drink_shop_sales)\n",
    "    bonous=20\n",
    "    drink_shop_sales_loss=drink_shop_sales-bonous\n",
    "    print(\"bonous loss\",drink_shop_sales_loss)\n",
    "else:\n",
    "    print(\"no profit and no loss\",drink_shop_sales)"
   ]
  },
  {
   "cell_type": "code",
   "execution_count": 65,
   "id": "9300bad3",
   "metadata": {},
   "outputs": [
    {
     "name": "stdout",
     "output_type": "stream",
     "text": [
      "i am profit 50\n",
      "bonous profit 60\n"
     ]
    }
   ],
   "source": [
    "drink_shop_sales=50\n",
    "if drink_shop_sales>=50:\n",
    "    print(\"i am profit\",drink_shop_sales)\n",
    "    bonous=10\n",
    "    drink_shop_sales_new=drink_shop_sales+bonous\n",
    "    print(\"bonous profit\",drink_shop_sales_new)\n",
    "elif drink_shop_sales<=50:\n",
    "    print(\"i am loss\",drink_shop_sales)\n",
    "    bonous=20\n",
    "    drink_shop_sales_loss=drink_shop_sales-bonous\n",
    "    print(\"bonous loss\",drink_shop_sales_loss)\n",
    "else:\n",
    "    print(\"no profit and no loss\",drink_shop_sales)"
   ]
  },
  {
   "cell_type": "code",
   "execution_count": 66,
   "id": "0b7adeab",
   "metadata": {},
   "outputs": [
    {
     "name": "stdout",
     "output_type": "stream",
     "text": [
      "i am loss 49\n",
      "bonous loss 29\n"
     ]
    }
   ],
   "source": [
    "drink_shop_sales=49\n",
    "if drink_shop_sales>=50:\n",
    "    print(\"i am profit\",drink_shop_sales)\n",
    "    bonous=10\n",
    "    drink_shop_sales_new=drink_shop_sales+bonous\n",
    "    print(\"bonous profit\",drink_shop_sales_new)\n",
    "elif drink_shop_sales<=50:\n",
    "    print(\"i am loss\",drink_shop_sales)\n",
    "    bonous=20\n",
    "    drink_shop_sales_loss=drink_shop_sales-bonous\n",
    "    print(\"bonous loss\",drink_shop_sales_loss)\n",
    "else:\n",
    "    print(\"no profit and no loss\",drink_shop_sales)"
   ]
  },
  {
   "cell_type": "code",
   "execution_count": null,
   "id": "cd16e9d9",
   "metadata": {},
   "outputs": [],
   "source": []
  }
 ],
 "metadata": {
  "kernelspec": {
   "display_name": "Python 3 (ipykernel)",
   "language": "python",
   "name": "python3"
  },
  "language_info": {
   "codemirror_mode": {
    "name": "ipython",
    "version": 3
   },
   "file_extension": ".py",
   "mimetype": "text/x-python",
   "name": "python",
   "nbconvert_exporter": "python",
   "pygments_lexer": "ipython3",
   "version": "3.10.9"
  }
 },
 "nbformat": 4,
 "nbformat_minor": 5
}
